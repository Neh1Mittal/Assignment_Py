{
 "cells": [
  {
   "cell_type": "markdown",
   "id": "6d4a6281",
   "metadata": {},
   "source": [
    "Q1.Simple Message :Store a message in a variable ,and then print that message.\n"
   ]
  },
  {
   "cell_type": "code",
   "execution_count": 11,
   "id": "738d59fd",
   "metadata": {},
   "outputs": [
    {
     "name": "stdout",
     "output_type": "stream",
     "text": [
      "Welcome to Data Dcience\n"
     ]
    }
   ],
   "source": [
    "Message=\"Welcome to Data Science\"\n",
    "print(Message)\n",
    "\n"
   ]
  },
  {
   "cell_type": "markdown",
   "id": "229ae1ba",
   "metadata": {},
   "source": [
    "Q2.Store a message in a variable and print that message. Then change the value of your variable to a new message and print the new message."
   ]
  },
  {
   "cell_type": "code",
   "execution_count": 13,
   "id": "143bbd03",
   "metadata": {},
   "outputs": [
    {
     "name": "stdout",
     "output_type": "stream",
     "text": [
      "Welcome to Data Dcience\n",
      "Welcome to Data Play\n"
     ]
    }
   ],
   "source": [
    "Message=\"Welcome to Data Dcience\"\n",
    "print(Message)\n",
    "\n",
    "Message=\"Welcome to Data Play\"\n",
    "print(Message)\n",
    "\n",
    "\n"
   ]
  },
  {
   "cell_type": "markdown",
   "id": "8a48c973",
   "metadata": {},
   "source": [
    "Q3.Store a person's name in a variable and print a message to that person. Your message should be simple,such as ,\"Hello Eric,would you like to learn some Phython today?\n"
   ]
  },
  {
   "cell_type": "code",
   "execution_count": 15,
   "id": "69244d79",
   "metadata": {},
   "outputs": [
    {
     "name": "stdout",
     "output_type": "stream",
     "text": [
      "Hello Eric,would you like to learn some phyton today?\n"
     ]
    }
   ],
   "source": [
    "#method 1\n",
    "fname=\"Eric\"\n",
    "print(\"Hello \"+fname+\",would you like to learn some phyton today?\")"
   ]
  },
  {
   "cell_type": "code",
   "execution_count": 17,
   "id": "db3582c6",
   "metadata": {},
   "outputs": [
    {
     "name": "stdout",
     "output_type": "stream",
     "text": [
      "Hello Eric,would you like to learn some phyton today?\n"
     ]
    }
   ],
   "source": [
    "#method 2 fstring  is another method of achieving string formatting\n",
    "fname=\"Eric\"\n",
    "print(f\"Hello {fname},would you like to learn some phyton today?\")"
   ]
  },
  {
   "cell_type": "markdown",
   "id": "09a1cb56",
   "metadata": {},
   "source": [
    "Q4.Find a quote from a famous person you admire. Print the quote and the \n",
    "name of its author. Your output should look something like the following, \n",
    "including the quotation marks: Albert Einstein once said, “A person who \n",
    "never made a mistake never tried anything new.\""
   ]
  },
  {
   "cell_type": "code",
   "execution_count": 19,
   "id": "8ee8cb52",
   "metadata": {},
   "outputs": [
    {
     "name": "stdout",
     "output_type": "stream",
     "text": [
      " A persom who never made a mistake never tried anything new, Albert Einstein\n"
     ]
    }
   ],
   "source": [
    "Quote=\" A persom who never made a mistake never tried anything new\"\n",
    "print (f\"{Quote}, Albert Einstein\")\n"
   ]
  },
  {
   "cell_type": "markdown",
   "id": "7b95cbd0",
   "metadata": {},
   "source": [
    "Q5.Repeat Exercise 4, but this time store the famous person’s name in a \n",
    "variable called famous_person. Then compose your message and store it in \n",
    "a new variable called message. Print your message.\n"
   ]
  },
  {
   "cell_type": "code",
   "execution_count": 21,
   "id": "17a9be4d",
   "metadata": {},
   "outputs": [
    {
     "name": "stdout",
     "output_type": "stream",
     "text": [
      "Albert Einstein said,A person who never made a mistake never tried anything new\n"
     ]
    }
   ],
   "source": [
    "famous_person =\"Albert Einstein\"\n",
    "print (f\"{ffamous_person} said,A person who never made a mistake never tried anything new\")"
   ]
  },
  {
   "cell_type": "markdown",
   "id": "b82a570d",
   "metadata": {},
   "source": [
    "Q6.Write addition, subtraction, multiplication, and division operations that \n",
    "each result in the number 8. Be sure to enclose your operations in print \n",
    "statements to see the results. You should create four lines that look like \n",
    "this: print (5 + 3)\n",
    "Your output should simply be four lines with the number 8 appearing once \n",
    "on each line."
   ]
  },
  {
   "cell_type": "code",
   "execution_count": 22,
   "id": "d82fca7a",
   "metadata": {},
   "outputs": [
    {
     "name": "stdout",
     "output_type": "stream",
     "text": [
      "8\n",
      "8\n",
      "8\n",
      "8\n"
     ]
    }
   ],
   "source": [
    "print (7+1)\n",
    "print (9-1)\n",
    "print(4*2)\n",
    "print(int(16/2))"
   ]
  },
  {
   "cell_type": "markdown",
   "id": "592844cf",
   "metadata": {},
   "source": [
    "Q7.Store your favourite number in a variable. Then, using that variable, create \n",
    "a message that reveals your favourite number. Print that message.\n"
   ]
  },
  {
   "cell_type": "code",
   "execution_count": 23,
   "id": "dc108528",
   "metadata": {},
   "outputs": [
    {
     "name": "stdout",
     "output_type": "stream",
     "text": [
      "Favourite number is  555\n"
     ]
    }
   ],
   "source": [
    "favnum= 555\n",
    "print(\"Favourite number is \",favnum)"
   ]
  },
  {
   "cell_type": "markdown",
   "id": "6f305a3e",
   "metadata": {},
   "source": [
    " Q8. Choose two of the programs you’ve written and add at least one comment \n",
    "to each. If you don’t have anything specific to write because your programs \n",
    "are too simple at this point, just add your name and the current date at the \n",
    "top of each program file. Then write one sentence describing what the \n",
    "program does.\n"
   ]
  },
  {
   "cell_type": "code",
   "execution_count": 24,
   "id": "c298a2c7",
   "metadata": {},
   "outputs": [
    {
     "name": "stdout",
     "output_type": "stream",
     "text": [
      "Albert Einstein said,A person who never made a mistake never tried anything new\n"
     ]
    }
   ],
   "source": [
    "famous_person =\"Albert Einstein\"   #these lines are copied by Neha \n",
    "print (f\"{famous_person} said,A person who never made a mistake never tried anything new\")#completed this assignment on 9th feb"
   ]
  },
  {
   "cell_type": "markdown",
   "id": "97b34401",
   "metadata": {},
   "source": [
    "Q9. Store the names of a few of your friends in a list called names. Print each \n",
    "person’s name by accessing each element in the list, one at a time."
   ]
  },
  {
   "cell_type": "code",
   "execution_count": null,
   "id": "56f86958",
   "metadata": {},
   "outputs": [],
   "source": []
  }
 ],
 "metadata": {
  "kernelspec": {
   "display_name": "Python 3 (ipykernel)",
   "language": "python",
   "name": "python3"
  },
  "language_info": {
   "codemirror_mode": {
    "name": "ipython",
    "version": 3
   },
   "file_extension": ".py",
   "mimetype": "text/x-python",
   "name": "python",
   "nbconvert_exporter": "python",
   "pygments_lexer": "ipython3",
   "version": "3.9.7"
  }
 },
 "nbformat": 4,
 "nbformat_minor": 5
}
